{
 "cells": [
  {
   "cell_type": "code",
   "execution_count": 412,
   "metadata": {
    "collapsed": true,
    "pycharm": {
     "is_executing": false
    }
   },
   "outputs": [],
   "source": [
    "import pandas as pd\n",
    "from pandas import DataFrame, Series\n",
    "import numpy as np\n",
    "from IPython.display import display, HTML\n",
    "#from openpyxl.workbook import Workbook\n",
    "import matplotlib\n",
    "import matplotlib.pyplot as plt\n",
    "%matplotlib inline\n",
    "import pickle"
   ]
  },
  {
   "cell_type": "code",
   "execution_count": 413,
   "outputs": [],
   "source": [
    "#directory = r\"C:\\Users\\usrymr851lw223\\PycharmProjects\\zhulong\\data\\Melodie Run Data\"\n",
    "directory = r\"C:\\Users\\usrymr851lw223\\PycharmProjects\\zhulong\\zhulong\"\n",
    "filename = rf\"{directory}\\APO_timecourse.pkl\"\n",
    "#print(filename)\n",
    "with open(filename,\"rb\") as experiment_file:\n",
    "    experiments = pickle.load(experiment_file)"
   ],
   "metadata": {
    "collapsed": false,
    "pycharm": {
     "name": "#%%\n",
     "is_executing": false
    }
   }
  },
  {
   "cell_type": "code",
   "execution_count": 414,
   "outputs": [
    {
     "data": {
      "text/plain": "       temperature solvent reagent  reagent equiv          additive  \\\nround                                                                 \n1               20     DMC   DBDMH          1.000             H2SO4   \n2               35    MeCN     NBS          1.125             Water   \n3               15     DMC     NBS          1.125               HCl   \n4               20    MeCN   DBDMH          1.250        Phosphoric   \n5               25     DMC   DBDMH          1.375  Phenylphosphonic   \n6                5    MeCN     NBS          1.250            Acetic   \n\n       additive mol%  light stage            times  \\\nround                                                \n1               13.0            2     [0, 2, 4, 6]   \n2               19.0            2  [0, 2, 4, 6, 8]   \n3                1.0            5     [0, 2, 4, 6]   \n4               19.0            3        [0, 2, 4]   \n5               25.0            4     [0, 2, 4, 6]   \n6               13.0            4     [0, 2, 4, 6]   \n\n                                       values  \nround                                          \n1              [0, 67.4741, 81.8419, 81.9339]  \n2      [0, 76.1625, 78.9165, 81.885, 81.9951]  \n3              [0, 74.9264, 81.2868, 81.8445]  \n4                       [0, 80.8618, 82.4044]  \n5              [0, 82.5001, 80.3417, 80.2631]  \n6              [0, 80.6779, 83.2924, 83.1455]  ",
      "text/html": "<div>\n<style scoped>\n    .dataframe tbody tr th:only-of-type {\n        vertical-align: middle;\n    }\n\n    .dataframe tbody tr th {\n        vertical-align: top;\n    }\n\n    .dataframe thead th {\n        text-align: right;\n    }\n</style>\n<table border=\"1\" class=\"dataframe\">\n  <thead>\n    <tr style=\"text-align: right;\">\n      <th></th>\n      <th>temperature</th>\n      <th>solvent</th>\n      <th>reagent</th>\n      <th>reagent equiv</th>\n      <th>additive</th>\n      <th>additive mol%</th>\n      <th>light stage</th>\n      <th>times</th>\n      <th>values</th>\n    </tr>\n    <tr>\n      <th>round</th>\n      <th></th>\n      <th></th>\n      <th></th>\n      <th></th>\n      <th></th>\n      <th></th>\n      <th></th>\n      <th></th>\n      <th></th>\n    </tr>\n  </thead>\n  <tbody>\n    <tr>\n      <th>1</th>\n      <td>20</td>\n      <td>DMC</td>\n      <td>DBDMH</td>\n      <td>1.000</td>\n      <td>H2SO4</td>\n      <td>13.0</td>\n      <td>2</td>\n      <td>[0, 2, 4, 6]</td>\n      <td>[0, 67.4741, 81.8419, 81.9339]</td>\n    </tr>\n    <tr>\n      <th>2</th>\n      <td>35</td>\n      <td>MeCN</td>\n      <td>NBS</td>\n      <td>1.125</td>\n      <td>Water</td>\n      <td>19.0</td>\n      <td>2</td>\n      <td>[0, 2, 4, 6, 8]</td>\n      <td>[0, 76.1625, 78.9165, 81.885, 81.9951]</td>\n    </tr>\n    <tr>\n      <th>3</th>\n      <td>15</td>\n      <td>DMC</td>\n      <td>NBS</td>\n      <td>1.125</td>\n      <td>HCl</td>\n      <td>1.0</td>\n      <td>5</td>\n      <td>[0, 2, 4, 6]</td>\n      <td>[0, 74.9264, 81.2868, 81.8445]</td>\n    </tr>\n    <tr>\n      <th>4</th>\n      <td>20</td>\n      <td>MeCN</td>\n      <td>DBDMH</td>\n      <td>1.250</td>\n      <td>Phosphoric</td>\n      <td>19.0</td>\n      <td>3</td>\n      <td>[0, 2, 4]</td>\n      <td>[0, 80.8618, 82.4044]</td>\n    </tr>\n    <tr>\n      <th>5</th>\n      <td>25</td>\n      <td>DMC</td>\n      <td>DBDMH</td>\n      <td>1.375</td>\n      <td>Phenylphosphonic</td>\n      <td>25.0</td>\n      <td>4</td>\n      <td>[0, 2, 4, 6]</td>\n      <td>[0, 82.5001, 80.3417, 80.2631]</td>\n    </tr>\n    <tr>\n      <th>6</th>\n      <td>5</td>\n      <td>MeCN</td>\n      <td>NBS</td>\n      <td>1.250</td>\n      <td>Acetic</td>\n      <td>13.0</td>\n      <td>4</td>\n      <td>[0, 2, 4, 6]</td>\n      <td>[0, 80.6779, 83.2924, 83.1455]</td>\n    </tr>\n  </tbody>\n</table>\n</div>"
     },
     "metadata": {},
     "output_type": "display_data"
    }
   ],
   "source": [
    "rows = []\n",
    "\n",
    "for i,experiment in enumerate(experiments):\n",
    "    \n",
    "    # get parameters\n",
    "    round = i+1\n",
    "    solvent = experiment.solvent\n",
    "    reagent = experiment.reagent.name\n",
    "    additive = experiment.additive.abbreviation\n",
    "    temperature = experiment.temperature\n",
    "    stage = experiment.light_stage\n",
    "    reagent_equiv = experiment.reagent_equivalents\n",
    "    additive_mol = experiment.additive_mole_percent\n",
    "    \n",
    "    n_points = len(np.array(experiment.history[\"times\"]))\n",
    "    times = [0]\n",
    "    times.extend([(i*2+2) for i in range(n_points)])\n",
    "    times_string = str(times)\n",
    "    values = [0]\n",
    "    values.extend(np.array(experiment.history[\"values\"]))\n",
    "    values_string = str(values)\n",
    "    \n",
    "    # put all parameters in the current row\n",
    "    rows.append([round, temperature, solvent, reagent, reagent_equiv, additive, additive_mol, stage, times, values])\n",
    "\n",
    "# make dataframe\n",
    "\n",
    "df = DataFrame(rows, columns=[\"round\", \"temperature\", \"solvent\", \"reagent\", \"reagent equiv\", \"additive\", \"additive mol%\", \"light stage\", \"times\", \"values\"])\n",
    "df.set_index(\"round\",inplace=True)\n",
    "display(df)"
   ],
   "metadata": {
    "collapsed": false,
    "pycharm": {
     "name": "#%%\n",
     "is_executing": false
    }
   }
  },
  {
   "cell_type": "code",
   "execution_count": 415,
   "outputs": [
    {
     "data": {
      "text/plain": "<Figure size 720x720 with 1 Axes>",
      "image/png": "[encoded data removed]"
     },
     "metadata": {
      "needs_background": "light"
     },
     "output_type": "display_data"
    }
   ],
   "source": [
    "cmap = matplotlib.cm.get_cmap(\"viridis\")\n",
    "plt.figure(figsize=(10,10))\n",
    "for round,row in df.iterrows():\n",
    "    #print(round)\n",
    "    #print(row)\n",
    "    #print(row[\"times\"])\n",
    "    x = row[\"times\"]\n",
    "    y = row[\"values\"]\n",
    "    color = cmap(round/len(experiments))\n",
    "    label = f\"{round}, {row['solvent']}, {row['reagent']} {row['reagent equiv']:.1f} equiv, {row['additive']} {row['additive mol%']} mol%, {row['temperature']} C, stage {row['light stage']}\"\n",
    "    plt.plot(x,y,color=color,marker=\"o\",linestyle=\"solid\",linewidth=1,markersize=8,label=label)\n",
    "    x0 = x[-1]+0.5\n",
    "    y0 = y[-1]-0.25\n",
    "    plt.annotate((round),(x0,y0),color=color)\n",
    "plt.xlabel(\"time (min)\")\n",
    "plt.ylabel(\"product area %\")\n",
    "plt.title(\"timecourse\")\n",
    "plt.xlim(0,27)\n",
    "plt.ylim(0,100)\n",
    "#plt.legend(loc=\"upper right\")\n",
    "plt.show()"
   ],
   "metadata": {
    "collapsed": false,
    "pycharm": {
     "name": "#%%\n",
     "is_executing": false
    }
   }
  },
  {
   "cell_type": "code",
   "execution_count": 416,
   "outputs": [],
   "source": [
    "df.to_excel(rf\"{directory}\\dataframe.xlsx\")"
   ],
   "metadata": {
    "collapsed": false,
    "pycharm": {
     "name": "#%%\n",
     "is_executing": false
    }
   }
  },
  {
   "cell_type": "code",
   "execution_count": 416,
   "outputs": [],
   "source": [
    "\n"
   ],
   "metadata": {
    "collapsed": false,
    "pycharm": {
     "name": "#%%\n",
     "is_executing": false
    }
   }
  }
 ],
 "metadata": {
  "kernelspec": {
   "name": "pycharm-bf5ea62e",
   "language": "python",
   "display_name": "PyCharm (zhulong)"
  },
  "language_info": {
   "codemirror_mode": {
    "name": "ipython",
    "version": 2
   },
   "file_extension": ".py",
   "mimetype": "text/x-python",
   "name": "python",
   "nbconvert_exporter": "python",
   "pygments_lexer": "ipython2",
   "version": "2.7.6"
  },
  "pycharm": {
   "stem_cell": {
    "cell_type": "raw",
    "source": [],
    "metadata": {
     "collapsed": false
    }
   }
  }
 },
 "nbformat": 4,
 "nbformat_minor": 0
}