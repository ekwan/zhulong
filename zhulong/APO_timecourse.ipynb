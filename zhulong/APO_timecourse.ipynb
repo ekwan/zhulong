{
 "cells": [
  {
   "cell_type": "code",
   "execution_count": 13,
   "metadata": {
    "collapsed": true,
    "pycharm": {
     "is_executing": false
    }
   },
   "outputs": [],
   "source": [
    "import pandas as pd\n",
    "from pandas import DataFrame, Series\n",
    "import numpy as np\n",
    "from IPython.display import display, HTML\n",
    "import matplotlib\n",
    "import matplotlib.pyplot as plt\n",
    "%matplotlib inline\n",
    "import pickle"
   ]
  },
  {
   "cell_type": "code",
   "execution_count": 17,
   "outputs": [
    {
     "name": "stdout",
     "text": [
      "solv=MeCN (168 uL) temp=-30°C SM = 80 uL reagent=NBS (vol=95 uL, 1.20 equiv) additive=Picolinic (vol=26 uL, 13 mol%) light=3\n",
      "solv=DMC (168 uL) temp=-10°C SM = 80 uL reagent=DBDMH (vol=111 uL, 1.39 equiv) additive=Acetic (vol=50 uL, 25 mol%) light=3\n",
      "solv=DMC (168 uL) temp=5°C SM = 80 uL reagent=NBS (vol=95 uL, 1.20 equiv) additive=Phenylphosphonic (vol=2 uL, 1 mol%) light=1\n",
      "solv=MeCN (168 uL) temp=-10°C SM = 80 uL reagent=DBDMH (vol=119 uL, 1.50 equiv) additive=Lactic (vol=14 uL, 7 mol%) light=4\n",
      "solv=MeCN (168 uL) temp=40°C SM = 80 uL reagent=NBS (vol=111 uL, 1.39 equiv) additive=Water (vol=37 uL, 19 mol%) light=2\n",
      "solv=DMC (168 uL) temp=20°C SM = 80 uL reagent=DBDMH (vol=104 uL, 1.30 equiv) additive=H2SO4 (vol=26 uL, 13 mol%) light=2\n",
      "solv=DMC (168 uL) temp=20°C SM = 80 uL reagent=NBS (vol=104 uL, 1.30 equiv) additive=HCl (vol=37 uL, 19 mol%) light=5\n",
      "solv=MeCN (168 uL) temp=5°C SM = 80 uL reagent=DBDMH (vol=87 uL, 1.09 equiv) additive=Phosphoric (vol=14 uL, 7 mol%) light=4\n",
      "solv=MeCN (168 uL) temp=20°C SM = 80 uL reagent=DBDMH (vol=82 uL, 1.02 equiv) additive=H2SO4 (vol=15 uL, 8 mol%) light=2\n",
      "solv=DMC (168 uL) temp=25°C SM = 80 uL reagent=DBDMH (vol=87 uL, 1.10 equiv) additive=Picolinic (vol=15 uL, 8 mol%) light=3\n"
     ],
     "output_type": "stream"
    },
    {
     "data": {
      "text/plain": "<Figure size 432x432 with 1 Axes>",
      "image/png": "[encoded data removed]"
     },
     "metadata": {
      "needs_background": "light"
     },
     "output_type": "display_data"
    }
   ],
   "source": [
    "with open (\"APO_timecourse.pkl\",\"rb\") as experiment_file:\n",
    "    experiments = pickle.load(experiment_file)\n",
    "plt.figure(figsize=(6,6))\n",
    "for experiment in experiments:\n",
    "    print(experiment)\n",
    "    #print(experiment.history[\"times\"])\n",
    "    #print(experiment.history[\"values\"])\n",
    "    #times=np.array(experiment.history[\"times\"])\n",
    "    #times = (times - times[0])/60\n",
    "    n_points = len(np.array(experiment.history[\"times\"]))\n",
    "    times = [(i*2.5+2.5) for i in range(n_points)]\n",
    "    #print(times)\n",
    "    values = np.array(experiment.history[\"values\"])\n",
    "    plt.plot(times,values,\"ko-\")\n",
    "plt.xlabel(\"time (s)\")\n",
    "plt.ylabel(\"product area %\")\n",
    "plt.title(\"timecourse\")\n",
    "plt.xlim(0,20)\n",
    "plt.ylim(0,100)\n",
    "plt.show()"
   ],
   "metadata": {
    "collapsed": false,
    "pycharm": {
     "name": "#%%\n",
     "is_executing": false
    }
   }
  },
  {
   "cell_type": "code",
   "execution_count": 2,
   "outputs": [],
   "source": [
    "\n"
   ],
   "metadata": {
    "collapsed": false,
    "pycharm": {
     "name": "#%%\n",
     "is_executing": false
    }
   }
  }
 ],
 "metadata": {
  "kernelspec": {
   "name": "pycharm-bf5ea62e",
   "language": "python",
   "display_name": "PyCharm (zhulong)"
  },
  "language_info": {
   "codemirror_mode": {
    "name": "ipython",
    "version": 2
   },
   "file_extension": ".py",
   "mimetype": "text/x-python",
   "name": "python",
   "nbconvert_exporter": "python",
   "pygments_lexer": "ipython2",
   "version": "2.7.6"
  },
  "pycharm": {
   "stem_cell": {
    "cell_type": "raw",
    "source": [],
    "metadata": {
     "collapsed": false
    }
   }
  }
 },
 "nbformat": 4,
 "nbformat_minor": 0
}